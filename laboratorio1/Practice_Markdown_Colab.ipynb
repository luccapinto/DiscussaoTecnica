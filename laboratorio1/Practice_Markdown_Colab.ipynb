{
  "cells": [
    {
      "cell_type": "markdown",
      "metadata": {
        "id": "Mz2peiNKR4_R"
      },
      "source": [
        "# Creating a code that prints \"hello world\" on the screen"
      ]
    },
    {
      "cell_type": "markdown",
      "metadata": {
        "id": "nSyVeJUkR4_X"
      },
      "source": [
        "## How to do that\n",
        "\n",
        "* Using **def** to define the function hello()\n",
        "* Using **print(phrase)** to indicate that we want to print a phrase on the screen\n",
        "* Calling the function with **hello()**"
      ]
    },
    {
      "cell_type": "code",
      "execution_count": null,
      "metadata": {
        "id": "D_pqenUtR4_Y",
        "outputId": "4927826f-50f6-4fa9-c57b-2bad0a5081df"
      },
      "outputs": [
        {
          "name": "stdout",
          "output_type": "stream",
          "text": [
            "hello world\n"
          ]
        }
      ],
      "source": [
        "def hello():\n",
        "    print (\"hello world\")\n",
        "hello()"
      ]
    }
  ],
  "metadata": {
    "kernelspec": {
      "display_name": "Python 3",
      "language": "python",
      "name": "python3"
    },
    "language_info": {
      "codemirror_mode": {
        "name": "ipython",
        "version": 3
      },
      "file_extension": ".py",
      "mimetype": "text/x-python",
      "name": "python",
      "nbconvert_exporter": "python",
      "pygments_lexer": "ipython3",
      "version": "3.7.6"
    },
    "colab": {
      "provenance": []
    }
  },
  "nbformat": 4,
  "nbformat_minor": 0
}