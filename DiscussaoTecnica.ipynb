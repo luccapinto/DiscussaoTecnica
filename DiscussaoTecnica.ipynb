{
  "nbformat": 4,
  "nbformat_minor": 0,
  "metadata": {
    "colab": {
      "provenance": [],
      "authorship_tag": "ABX9TyNWZgzgEdnNrQrV1PKU6kKC",
      "include_colab_link": true
    },
    "kernelspec": {
      "name": "python3",
      "display_name": "Python 3"
    },
    "language_info": {
      "name": "python"
    }
  },
  "cells": [
    {
      "cell_type": "markdown",
      "metadata": {
        "id": "view-in-github",
        "colab_type": "text"
      },
      "source": [
        "<a href=\"https://colab.research.google.com/github/luccapinto/DiscussaoTecnica/blob/main/DiscussaoTecnica.ipynb\" target=\"_parent\"><img src=\"https://colab.research.google.com/assets/colab-badge.svg\" alt=\"Open In Colab\"/></a>"
      ]
    },
    {
      "cell_type": "markdown",
      "source": [
        "## Primeira parte"
      ],
      "metadata": {
        "id": "UXMiXWn5u9v9"
      }
    },
    {
      "cell_type": "code",
      "execution_count": 1,
      "metadata": {
        "colab": {
          "base_uri": "https://localhost:8080/",
          "height": 36
        },
        "id": "n-gdjCkMuvg2",
        "outputId": "bae4d60e-5185-48ab-c0f0-d62c0dd2bcf2"
      },
      "outputs": [
        {
          "output_type": "execute_result",
          "data": {
            "text/plain": [
              "'hi'"
            ],
            "application/vnd.google.colaboratory.intrinsic+json": {
              "type": "string"
            }
          },
          "metadata": {},
          "execution_count": 1
        }
      ],
      "source": [
        "def hello():\n",
        "  return \"hi\"\n",
        "hello()"
      ]
    },
    {
      "cell_type": "markdown",
      "source": [
        "## Modelagem"
      ],
      "metadata": {
        "id": "T78evhaBvEHQ"
      }
    },
    {
      "cell_type": "code",
      "source": [],
      "metadata": {
        "id": "5Qj9TmPrvHlo"
      },
      "execution_count": null,
      "outputs": []
    },
    {
      "cell_type": "markdown",
      "source": [
        "### Tópicos\n",
        "* um\n",
        "* dois\n",
        "* três"
      ],
      "metadata": {
        "id": "j_AHesG6vRwS"
      }
    },
    {
      "cell_type": "markdown",
      "source": [
        "## Conclusão"
      ],
      "metadata": {
        "id": "D7MzBkdXvIIk"
      }
    },
    {
      "cell_type": "code",
      "source": [],
      "metadata": {
        "id": "twSGvyepvKUV"
      },
      "execution_count": null,
      "outputs": []
    }
  ]
}